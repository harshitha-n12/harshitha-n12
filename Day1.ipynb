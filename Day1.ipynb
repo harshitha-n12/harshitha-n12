{
  "nbformat": 4,
  "nbformat_minor": 0,
  "metadata": {
    "colab": {
      "provenance": [],
      "authorship_tag": "ABX9TyP4yMqP09NpqZ6X3c7CZLyl",
      "include_colab_link": true
    },
    "kernelspec": {
      "name": "python3",
      "display_name": "Python 3"
    },
    "language_info": {
      "name": "python"
    }
  },
  "cells": [
    {
      "cell_type": "markdown",
      "metadata": {
        "id": "view-in-github",
        "colab_type": "text"
      },
      "source": [
        "<a href=\"https://colab.research.google.com/github/harshitha-n12/harshitha-n12/blob/main/Day1.ipynb\" target=\"_parent\"><img src=\"https://colab.research.google.com/assets/colab-badge.svg\" alt=\"Open In Colab\"/></a>"
      ]
    },
    {
      "cell_type": "markdown",
      "source": [
        "##DataTypes\n",
        "String: Collection of characters\n",
        "\n",
        "---\n",
        "\n",
        "\n",
        "Integer: Whole number\n",
        "\n",
        "---\n",
        "\n",
        "\n",
        "Float: Decimal Number\n",
        "\n",
        "---\n",
        "\n",
        "\n",
        "Boolean: Binary --> True and False\n",
        "\n",
        "---\n",
        "\n",
        "\n",
        "Complex: 1+2j\n",
        "\n"
      ],
      "metadata": {
        "id": "vYXKIYRXT75M"
      }
    },
    {
      "cell_type": "markdown",
      "source": [
        "##Type casting or Explicit Casting"
      ],
      "metadata": {
        "id": "KxCb1t8-TZ0A"
      }
    },
    {
      "cell_type": "code",
      "source": [
        "a=123\n",
        "b=12.1\n",
        "c=10+2j\n",
        "d=\"Hello World\"\n",
        "f=True\n",
        "#print(type(a))\n",
        "#print(type(b))\n",
        "#print(type(c))\n",
        "#print(type(d))\n",
        "e=complex(f)\n",
        "print(e)\n",
        "print(type(e))"
      ],
      "metadata": {
        "colab": {
          "base_uri": "https://localhost:8080/"
        },
        "id": "AM9bMar0Qsvj",
        "outputId": "797af410-5673-4e57-8dd6-f4131a3a8d77"
      },
      "execution_count": null,
      "outputs": [
        {
          "output_type": "stream",
          "name": "stdout",
          "text": [
            "(1+0j)\n",
            "<class 'complex'>\n"
          ]
        }
      ]
    },
    {
      "cell_type": "markdown",
      "source": [
        "#First Project\n",
        "##Calculator"
      ],
      "metadata": {
        "id": "C2ZFd2_RQZKk"
      }
    },
    {
      "cell_type": "code",
      "execution_count": null,
      "metadata": {
        "colab": {
          "base_uri": "https://localhost:8080/"
        },
        "id": "zQoKjlPdMar-",
        "outputId": "d8303a7a-c6c7-4d38-df46-2c573e8b35ec"
      },
      "outputs": [
        {
          "output_type": "stream",
          "name": "stdout",
          "text": [
            "Enter first number: 12\n",
            "Enter second number: 12\n",
            "Which operation you need to perform 1) Addition 2) Substraction 3) Multiplication 4) Division\n",
            "Enter your option: 5\n",
            "Invalid input. Choose the correct option\n"
          ]
        }
      ],
      "source": [
        "a= int(input(\"Enter first number: \"))\n",
        "b= int(input(\"Enter second number: \"))\n",
        "action = \"Which operation you need to perform 1) Addition 2) Substraction 3) Multiplication 4) Division\"\n",
        "print(action)\n",
        "result = int(input(\"Enter your option: \"))\n",
        "if result==1:\n",
        "  c=a+b\n",
        "  print(c)\n",
        "elif result==2:\n",
        "  c=a-b\n",
        "  print(c)\n",
        "elif result==3:\n",
        "  c=a*b\n",
        "  print(c)\n",
        "elif result==4:\n",
        "  c=a/b\n",
        "  print(c)\n",
        "else:\n",
        "  print(\"Invalid input. Choose the correct option\")\n",
        " "
      ]
    }
  ]
}